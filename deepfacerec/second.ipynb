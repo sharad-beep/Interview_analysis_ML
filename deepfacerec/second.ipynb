{
 "cells": [
  {
   "cell_type": "code",
   "execution_count": null,
   "id": "6a65be7e-5620-4879-89ea-25b5506c52c6",
   "metadata": {},
   "outputs": [],
   "source": [
    "from deepface import DeepFace as deepface\n",
    "\n",
    "# Analyze the image and get the emotions and their scores.\n",
    "objs = deepface.analyze(img_path=\"facedb/Brad/person.jfif\", actions=[\"age\", \"gender\", \"race\", \"emotion\"])\n",
    "emotions = list(objs['emotion'].keys())\n",
    "scores = list(objs['emotion'].values())\n",
    "print(\"hello\")\n"
   ]
  },
  {
   "cell_type": "code",
   "execution_count": null,
   "id": "615a6213-a84e-4599-83c9-11e23a08ff53",
   "metadata": {},
   "outputs": [],
   "source": [
    "import matplotlib.pyplot as plt\n",
    "import numpy as np\n",
    "\n",
    "# Sort the emotions and scores by score.\n",
    "sorted_emotions = []\n",
    "sorted_scores = []\n",
    "for i in range(len(emotions)):\n",
    "    max_score_idx = np.argmax(scores)\n",
    "    sorted_emotions.append(emotions[max_score_idx])\n",
    "    sorted_scores.append(scores[max_score_idx])\n",
    "    del emotions[max_score_idx]\n",
    "    del scores[max_score_idx]\n",
    "\n",
    "# Plot the emotions and their scores.\n",
    "plt.bar(sorted_emotions, sorted_scores)\n",
    "\n",
    "# Set the title and labels.\n",
    "plt.title('Emotions and Their Scores')\n",
    "plt.xlabel('Emotion')\n",
    "plt.ylabel('Score')\n",
    "\n",
    "# Show the plot.\n",
    "plt.show()\n"
   ]
  },
  {
   "cell_type": "code",
   "execution_count": null,
   "id": "7118f776-0b62-479a-84de-298f27819a7a",
   "metadata": {},
   "outputs": [],
   "source": []
  },
  {
   "cell_type": "code",
   "execution_count": null,
   "id": "ed8b89b0-17f2-41a1-90f5-cdbb1f5d7252",
   "metadata": {},
   "outputs": [],
   "source": []
  }
 ],
 "metadata": {
  "kernelspec": {
   "display_name": "Python 3 (ipykernel)",
   "language": "python",
   "name": "python3"
  },
  "language_info": {
   "codemirror_mode": {
    "name": "ipython",
    "version": 3
   },
   "file_extension": ".py",
   "mimetype": "text/x-python",
   "name": "python",
   "nbconvert_exporter": "python",
   "pygments_lexer": "ipython3",
   "version": "3.11.6"
  }
 },
 "nbformat": 4,
 "nbformat_minor": 5
}
