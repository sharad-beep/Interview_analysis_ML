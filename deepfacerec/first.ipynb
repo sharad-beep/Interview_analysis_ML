{
 "cells": [
  {
   "cell_type": "code",
   "execution_count": 23,
   "id": "1898e011-47ab-40c3-a9ef-d57b14ba746e",
   "metadata": {},
   "outputs": [],
   "source": [
    "from deepface import DeepFace\n",
    "import matplotlib.pyplot as plt\n",
    "import cv2\n",
    "import numpy as np\n"
   ]
  },
  {
   "cell_type": "code",
   "execution_count": 3,
   "id": "aa07ab48-0a2a-45b4-b034-713d23a82484",
   "metadata": {},
   "outputs": [],
   "source": [
    "#1. Face detection"
   ]
  },
  {
   "cell_type": "code",
   "execution_count": 26,
   "id": "0598e584-fd55-4e0e-a8a6-c397bdd0b03a",
   "metadata": {},
   "outputs": [],
   "source": [
    "backends = [\n",
    "  'opencv', \n",
    "  'ssd', \n",
    "  'dlib', \n",
    "  'mtcnn', \n",
    "  'retinaface', \n",
    "  'mediapipe'\n",
    "]\n",
    "\n",
    "#  result = DeepFace.analyze(img, \n",
    "#                           actions = ['emotion']) \n",
    "  \n",
    "# # print result \n",
    "# # print(result)"
   ]
  },
  {
   "cell_type": "code",
   "execution_count": null,
   "id": "b34208b6-6d82-413e-912e-de2c1d86f1c5",
   "metadata": {},
   "outputs": [],
   "source": [
    "# img = cv2.imread('facedb/brad/person.jfif') \n",
    "  \n",
    "# # call imshow() using plt object \n",
    "# plt.imshow(img[:, :, : : -1]) \n",
    "  \n",
    "# # display that image \n",
    "# plt.show() \n",
    "objs = DeepFace.analyze(img_path = \"facedb/brad/person.jfif\", \n",
    "        actions = ['age', 'gender', 'race', 'emotion'])\n",
    "def visualize_emotions(objs):\n",
    "  \"\"\"Visualizes the emotions and their scores in the DeepFace result.\n",
    "\n",
    "  Args:\n",
    "    objs: The DeepFace result.\n",
    "\n",
    "  Returns:\n",
    "    A matplotlib figure object.\n",
    "  \"\"\"\n",
    "\n",
    "  fig, ax = plt.subplots()\n",
    "\n",
    "  # Get the emotions and their scores.\n",
    "  emotions = list(objs['emotion'].keys())\n",
    "  scores = list(objs['emotion'].values())\n",
    "\n",
    "  # Sort the emotions and scores by score.\n",
    "  sorted_emotions = []\n",
    "  sorted_scores = []\n",
    "  for i in range(len(emotions)):\n",
    "    max_score_idx = np.argmax(scores)\n",
    "    sorted_emotions.append(emotions[max_score_idx])\n",
    "    sorted_scores.append(scores[max_score_idx])\n",
    "    del emotions[max_score_idx]\n",
    "    del scores[max_score_idx]\n",
    "\n",
    "  # Plot the emotions and their scores.\n",
    "  ax.bar(sorted_emotions, sorted_scores)\n",
    "\n",
    "  # Set the title and labels.\n",
    "  ax.set_title('Emotions and Their Scores')\n",
    "  ax.set_xlabel('Emotion')\n",
    "  ax.set_ylabel('Score')\n",
    "\n",
    "  return fig\n",
    "\n",
    "# Visualize the emotions and their scores in the result.\n",
    "fig = visualize_emotions(objs)\n",
    "\n",
    "# Show the plot.\n",
    "plt.show()"
   ]
  },
  {
   "cell_type": "code",
   "execution_count": null,
   "id": "fcbe551b-6a65-434c-a307-0029c13ab99e",
   "metadata": {},
   "outputs": [],
   "source": []
  }
 ],
 "metadata": {
  "kernelspec": {
   "display_name": "Python 3 (ipykernel)",
   "language": "python",
   "name": "python3"
  },
  "language_info": {
   "codemirror_mode": {
    "name": "ipython",
    "version": 3
   },
   "file_extension": ".py",
   "mimetype": "text/x-python",
   "name": "python",
   "nbconvert_exporter": "python",
   "pygments_lexer": "ipython3",
   "version": "3.11.6"
  }
 },
 "nbformat": 4,
 "nbformat_minor": 5
}
