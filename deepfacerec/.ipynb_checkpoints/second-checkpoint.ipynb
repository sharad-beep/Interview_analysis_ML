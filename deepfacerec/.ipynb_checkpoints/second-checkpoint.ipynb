{
 "cells": [
  {
   "cell_type": "code",
   "execution_count": null,
   "id": "6a65be7e-5620-4879-89ea-25b5506c52c6",
   "metadata": {},
   "outputs": [],
   "source": [
    "import deepface\n",
    "\n",
    "# Analyze the image and get the emotions and their scores.\n",
    "objs = deepface.analyze(img_path=\"facedb/brad/person.jfif\", actions=[\"age\", \"gender\", \"race\", \"emotion\"])\n",
    "emotions = list(objs['emotion'].keys())\n",
    "scores = list(objs['emotion'].values())\n",
    "\n"
   ]
  },
  {
   "cell_type": "code",
   "execution_count": null,
   "id": "615a6213-a84e-4599-83c9-11e23a08ff53",
   "metadata": {},
   "outputs": [],
   "source": []
  }
 ],
 "metadata": {
  "kernelspec": {
   "display_name": "Python 3 (ipykernel)",
   "language": "python",
   "name": "python3"
  },
  "language_info": {
   "name": ""
  }
 },
 "nbformat": 4,
 "nbformat_minor": 5
}
